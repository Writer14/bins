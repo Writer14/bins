{
  "nbformat": 4,
  "nbformat_minor": 0,
  "metadata": {
    "colab": {
      "provenance": [],
      "authorship_tag": "ABX9TyOzdg/6+FSO/cRFopdQT3Qg",
      "include_colab_link": true
    },
    "kernelspec": {
      "name": "python3",
      "display_name": "Python 3"
    },
    "language_info": {
      "name": "python"
    }
  },
  "cells": [
    {
      "cell_type": "markdown",
      "metadata": {
        "id": "view-in-github",
        "colab_type": "text"
      },
      "source": [
        "<a href=\"https://colab.research.google.com/github/Writer14/bins/blob/main/Week1_mytesting.ipynb\" target=\"_parent\"><img src=\"https://colab.research.google.com/assets/colab-badge.svg\" alt=\"Open In Colab\"/></a>"
      ]
    },
    {
      "cell_type": "code",
      "execution_count": 4,
      "metadata": {
        "colab": {
          "base_uri": "https://localhost:8080/"
        },
        "id": "VwUjNispPnqz",
        "outputId": "6e0d83d4-e960-4cb5-f035-a78c39ebce12"
      },
      "outputs": [
        {
          "output_type": "stream",
          "name": "stdout",
          "text": [
            "This is MikCummings going in on Day One with about 3 hours actual programming time!\n"
          ]
        }
      ],
      "source": [
        "name= 'MikCummings'\n",
        "day= 'Day One'\n",
        "hrs= 3\n",
        "print('This is', name, 'going in on', day, 'with about', hrs, 'hours actual programming time!')"
      ]
    }
  ]
}